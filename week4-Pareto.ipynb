{
 "cells": [
  {
   "cell_type": "markdown",
   "metadata": {},
   "source": [
    "### Распределение Парето\n",
    "https://ru.wikipedia.org/wiki/Распределение_Парето\n",
    "\n",
    "Распределение случайной величины X задается равенством:\n",
    "$$F_X(x) = P(X<x) = 1-(\\frac{x_m}{x})^k$$\n",
    "\n",
    "Примем следующие исходные параметры: \n",
    "$$x_m = 1$$\n",
    "$$k = 3$$\n",
    "\n",
    "Функция распределения:\n",
    "$$F(x) = 1-\\frac{1}{x^3}$$\n",
    "\n",
    "Плотность вероятности:\n",
    "$$f(x) = \\frac{3}{x^4}$$\n",
    "\n",
    "Математическое ожидание:\n",
    "$$\\frac{k*x_m}{k-1} = 1.5$$\n",
    "\n",
    "Дисперсия:\n",
    "$$(\\frac{x_m}{k-1})^2*\\frac{k}{k-2} = 0.75$$\n",
    "\n",
    "\n",
    "Стандартное отклонение:\n",
    "$$\\sqrt{0.75} = 0.866$$"
   ]
  },
  {
   "cell_type": "code",
   "execution_count": 5,
   "metadata": {
    "collapsed": true
   },
   "outputs": [],
   "source": [
    "#импортируем библиотеки\n",
    "import numpy as np\n",
    "import pandas as pd\n",
    "import scipy.stats as st\n",
    "import matplotlib.pyplot as plt\n",
    "%matplotlib inline"
   ]
  },
  {
   "cell_type": "code",
   "execution_count": 6,
   "metadata": {
    "collapsed": false
   },
   "outputs": [],
   "source": [
    "#cоздаем распределение Парето с параметрами k=3 и xm=1\n",
    "k = 3\n",
    "xm = 1\n",
    "pareto = st.pareto(k, loc=0, scale=xm)"
   ]
  },
  {
   "cell_type": "code",
   "execution_count": 7,
   "metadata": {
    "collapsed": true
   },
   "outputs": [],
   "source": [
    "#генерируем 1000 случайных чисел из распределения Парето\n",
    "arr = pareto.rvs(1000)"
   ]
  },
  {
   "cell_type": "code",
   "execution_count": 8,
   "metadata": {
    "collapsed": true
   },
   "outputs": [],
   "source": [
    "#задаем пространство для отображения\n",
    "x = np.linspace(st.pareto.ppf(0.01, k), st.pareto.ppf(0.99, k), 100)"
   ]
  },
  {
   "cell_type": "code",
   "execution_count": 9,
   "metadata": {
    "collapsed": true
   },
   "outputs": [],
   "source": [
    "#вычисляем теоретическую плотность распределения Парето\n",
    "pareto_pdf = pareto.pdf(x)"
   ]
  },
  {
   "cell_type": "code",
   "execution_count": 28,
   "metadata": {
    "collapsed": false
   },
   "outputs": [
    {
     "data": {
      "text/plain": [
       "<matplotlib.legend.Legend at 0x7eff34e4b750>"
      ]
     },
     "execution_count": 28,
     "metadata": {},
     "output_type": "execute_result"
    },
    {
     "data": {
      "image/png": "[encoded data removed]",
      "text/plain": [
       "<matplotlib.figure.Figure at 0x7eff34b364d0>"
      ]
     },
     "metadata": {},
     "output_type": "display_data"
    }
   ],
   "source": [
    "#рисуем гистограмму реальной выборки и накладываем на нее теоретическую плотность распределения Парето\n",
    "plt.plot(x, pareto_pdf, color='r', label='in theory')\n",
    "plt.hist(arr, bins = 30, normed = True, color = 'c', label = 'in real', edgecolor = 'g')\n",
    "plt.ylabel('f(x)')\n",
    "plt.xlabel('x')\n",
    "plt.legend(title = 'pdf')"
   ]
  },
  {
   "cell_type": "markdown",
   "metadata": {},
   "source": [
    "Создаем функцию, которая возвращает массив, состоящий из 1000 элементов. \n",
    "Каждый из этих элементов - это выборочное матожидание нашей случайной величины с параметром n"
   ]
  },
  {
   "cell_type": "code",
   "execution_count": 35,
   "metadata": {
    "collapsed": true
   },
   "outputs": [],
   "source": [
    "def get_arr(n):\n",
    "    return np.array([np.mean(pareto.rvs(n)) for i in range(1000)])"
   ]
  },
  {
   "cell_type": "markdown",
   "metadata": {},
   "source": [
    "Создаем процедуру, на вход которой будем подавать параметр n, а в ответ получать гистограмму распределения выборочных матожиданий с наложенным на нее нормальным распределением"
   ]
  },
  {
   "cell_type": "code",
   "execution_count": 60,
   "metadata": {
    "collapsed": false
   },
   "outputs": [],
   "source": [
    "def plotting(n):\n",
    "    #получаем массив выборочных матожиданий\n",
    "    means = get_arr(n)\n",
    "    \n",
    "    #по информации из wiki и используя ЦПТ рассчитываем теоретические матожидание и стандартное отклонение\n",
    "    teor_mo = 1.5\n",
    "    teor_std = 0.866/n**0.5\n",
    "    #вычисляем нормальное распределение с использованием теоретических матожидания и стандартного отклонения\n",
    "    norm_rv = st.norm(teor_mo,teor_std)\n",
    "    \n",
    "    #рисуем гистограмму и накладываем на нее посчитанное нормальное распределение\n",
    "    plt.hist(means, bins=20, normed=True, label = 'Pareto', color='c', edgecolor='g')\n",
    "    x = np.linspace(0.5,2.5,100)            \n",
    "    pdf = norm_rv.pdf(x)\n",
    "    plt.plot(x, pdf, label='Norm', color='r')\n",
    "    plt.ylabel('f(x)')\n",
    "    plt.xlabel('x')\n",
    "    plt.legend()\n",
    "    plt.title('n=' + str(n))\n",
    "    \n",
    "    #для большей наглядности отображаем теоретическое и измеренное значения матожидания и стандартного отклонения\n",
    "    #сравнивая эти цифры, можно оценить точность аппроксимации с увеличением параметра n\n",
    "    print('теоретическое матожидание = '+str(teor_mo))\n",
    "    print('измеренное матожидание = '+str(means.mean()))\n",
    "    print('')\n",
    "    print('теоретическое стандартное отклонение = '+str(teor_std))\n",
    "    print('измеренное стандартное отклонение = '+str(means.std()))"
   ]
  },
  {
   "cell_type": "code",
   "execution_count": 61,
   "metadata": {
    "collapsed": false
   },
   "outputs": [
    {
     "name": "stdout",
     "output_type": "stream",
     "text": [
      "0.387286973703\n",
      "0.387286973703\n",
      "теоретическое матожидание = 1.5\n",
      "измеренное матожидание = 1.49739328068\n",
      "\n",
      "теоретическое стандартное отклонение = 0.387286973703\n",
      "измеренное стандартное отклонение = 0.363001009701\n"
     ]
    },
    {
     "data": {
      "image/png": "[encoded data removed]",
      "text/plain": [
       "<matplotlib.figure.Figure at 0x7eff3484e310>"
      ]
     },
     "metadata": {},
     "output_type": "display_data"
    }
   ],
   "source": [
    "#вызываем процедуру для проверки ЦПТ при n=5\n",
    "plotting(5)"
   ]
  },
  {
   "cell_type": "code",
   "execution_count": 62,
   "metadata": {
    "collapsed": false
   },
   "outputs": [
    {
     "name": "stdout",
     "output_type": "stream",
     "text": [
      "0.1732\n",
      "0.1732\n",
      "теоретическое матожидание = 1.5\n",
      "измеренное матожидание = 1.51073830374\n",
      "\n",
      "теоретическое стандартное отклонение = 0.1732\n",
      "измеренное стандартное отклонение = 0.180508944986\n"
     ]
    },
    {
     "data": {
      "image/png": "[encoded data removed]",
      "text/plain": [
       "<matplotlib.figure.Figure at 0x7eff34d54850>"
      ]
     },
     "metadata": {},
     "output_type": "display_data"
    }
   ],
   "source": [
    "#вызываем процедуру для проверки ЦПТ при n=25\n",
    "plotting(25)"
   ]
  },
  {
   "cell_type": "code",
   "execution_count": 63,
   "metadata": {
    "collapsed": false
   },
   "outputs": [
    {
     "name": "stdout",
     "output_type": "stream",
     "text": [
      "0.0866\n",
      "0.0866\n",
      "теоретическое матожидание = 1.5\n",
      "измеренное матожидание = 1.4981551324\n",
      "\n",
      "теоретическое стандартное отклонение = 0.0866\n",
      "измеренное стандартное отклонение = 0.0847843436439\n"
     ]
    },
    {
     "data": {
      "image/png": "[encoded data removed]",
      "text/plain": [
       "<matplotlib.figure.Figure at 0x7eff34c8f5d0>"
      ]
     },
     "metadata": {},
     "output_type": "display_data"
    }
   ],
   "source": [
    "#вызываем процедуру для проверки ЦПТ при n=100\n",
    "plotting(100)"
   ]
  },
  {
   "cell_type": "code",
   "execution_count": 64,
   "metadata": {
    "collapsed": false
   },
   "outputs": [
    {
     "name": "stdout",
     "output_type": "stream",
     "text": [
      "0.0387286973703\n",
      "0.0387286973703\n",
      "теоретическое матожидание = 1.5\n",
      "измеренное матожидание = 1.49943577735\n",
      "\n",
      "теоретическое стандартное отклонение = 0.0387286973703\n",
      "измеренное стандартное отклонение = 0.0379136948461\n"
     ]
    },
    {
     "data": {
      "image/png": "[encoded data removed]",
      "text/plain": [
       "<matplotlib.figure.Figure at 0x7eff34901690>"
      ]
     },
     "metadata": {},
     "output_type": "display_data"
    }
   ],
   "source": [
    "#вызываем процедуру для проверки ЦПТ при n=500\n",
    "plotting(500)"
   ]
  },
  {
   "cell_type": "markdown",
   "metadata": {
    "collapsed": true
   },
   "source": [
    "## Выводы:\n",
    "1. Наглядно продемонстрировано, что ЦПТ работает\n",
    "2. При увеличении \"n\" точность аппроксимации распределения выборочных средних нормальным распределением ВОЗРАСТАЕТ\n",
    "(измеренные значения матожидания и стандартного отклонения стремятся к теоретическим значениям)"
   ]
  },
  {
   "cell_type": "code",
   "execution_count": null,
   "metadata": {
    "collapsed": true
   },
   "outputs": [],
   "source": []
  }
 ],
 "metadata": {
  "anaconda-cloud": {},
  "kernelspec": {
   "display_name": "Python 2",
   "language": "python",
   "name": "python2"
  },
  "language_info": {
   "codemirror_mode": {
    "name": "ipython",
    "version": 2
   },
   "file_extension": ".py",
   "mimetype": "text/x-python",
   "name": "python",
   "nbconvert_exporter": "python",
   "pygments_lexer": "ipython2",
   "version": "2.7.13"
  }
 },
 "nbformat": 4,
 "nbformat_minor": 1
}
